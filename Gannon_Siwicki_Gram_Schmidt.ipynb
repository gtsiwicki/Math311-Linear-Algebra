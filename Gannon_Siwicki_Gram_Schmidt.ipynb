{
  "nbformat": 4,
  "nbformat_minor": 0,
  "metadata": {
    "colab": {
      "provenance": [],
      "authorship_tag": "ABX9TyN3SLd3jQNVIy1ppUMu7HD9",
      "include_colab_link": true
    },
    "kernelspec": {
      "name": "python3",
      "display_name": "Python 3"
    },
    "language_info": {
      "name": "python"
    }
  },
  "cells": [
    {
      "cell_type": "markdown",
      "metadata": {
        "id": "view-in-github",
        "colab_type": "text"
      },
      "source": [
        "<a href=\"https://colab.research.google.com/github/gtsiwicki/Math311-Linear-Algebra/blob/main/Gannon_Siwicki_Gram_Schmidt.ipynb\" target=\"_parent\"><img src=\"https://colab.research.google.com/assets/colab-badge.svg\" alt=\"Open In Colab\"/></a>"
      ]
    },
    {
      "cell_type": "markdown",
      "source": [
        "# Gram Schmidt Orthogonalization Process\n",
        "\n",
        "\n"
      ],
      "metadata": {
        "id": "M0PU3O0JkXJt"
      }
    },
    {
      "cell_type": "code",
      "source": [
        "import numpy as np"
      ],
      "metadata": {
        "id": "7PvrRemukgFc"
      },
      "execution_count": null,
      "outputs": []
    },
    {
      "cell_type": "markdown",
      "source": [
        "### Vector Operations\n",
        "\n",
        "*   Dot Product\n",
        "*   Normalization - size of a vector\n",
        "*   Subtract / Add\n",
        "*   Scale\n",
        "*   Create Vectors"
      ],
      "metadata": {
        "id": "wGyLEgP0krAS"
      }
    },
    {
      "cell_type": "code",
      "source": [
        "# create vectors\n",
        "\n",
        "v1 = np.array([[0],\n",
        "               [3],\n",
        "               [-3],\n",
        "               [0]])\n",
        "v1"
      ],
      "metadata": {
        "colab": {
          "base_uri": "https://localhost:8080/"
        },
        "id": "uaUOH1lLlNqQ",
        "outputId": "4f77076d-3d8c-4db0-e38b-817d21ddc23f"
      },
      "execution_count": null,
      "outputs": [
        {
          "output_type": "execute_result",
          "data": {
            "text/plain": [
              "array([[ 0],\n",
              "       [ 3],\n",
              "       [-3],\n",
              "       [ 0]])"
            ]
          },
          "metadata": {},
          "execution_count": 16
        }
      ]
    },
    {
      "cell_type": "code",
      "source": [
        "#Checking Operations\n",
        "print(v1+1)\n",
        "print(\" \")\n",
        "print(v1*5)"
      ],
      "metadata": {
        "colab": {
          "base_uri": "https://localhost:8080/"
        },
        "id": "zv9sjoshlsp8",
        "outputId": "93947154-b367-4b5d-8c09-db7e13500e51"
      },
      "execution_count": null,
      "outputs": [
        {
          "output_type": "stream",
          "name": "stdout",
          "text": [
            "[[ 1]\n",
            " [ 4]\n",
            " [-2]\n",
            " [ 1]]\n",
            " \n",
            "[[  0]\n",
            " [ 15]\n",
            " [-15]\n",
            " [  0]]\n"
          ]
        }
      ]
    },
    {
      "cell_type": "code",
      "source": [
        "#Trying dot prodcuts\n",
        "dot = sum(v1*v1)\n",
        "dot\n"
      ],
      "metadata": {
        "colab": {
          "base_uri": "https://localhost:8080/"
        },
        "id": "IQELpsVXnZXm",
        "outputId": "ac34189f-75e4-4bdd-a036-a79d323d9dd4"
      },
      "execution_count": null,
      "outputs": [
        {
          "output_type": "execute_result",
          "data": {
            "text/plain": [
              "array([18])"
            ]
          },
          "metadata": {},
          "execution_count": 20
        }
      ]
    },
    {
      "cell_type": "code",
      "source": [
        "#Finding the norm\n",
        "np.linalg.norm(v1)"
      ],
      "metadata": {
        "colab": {
          "base_uri": "https://localhost:8080/"
        },
        "id": "mkBBJu94oViW",
        "outputId": "c57b3bb6-8119-4174-83e8-420c63c87365"
      },
      "execution_count": null,
      "outputs": [
        {
          "output_type": "execute_result",
          "data": {
            "text/plain": [
              "np.float64(4.242640687119285)"
            ]
          },
          "metadata": {},
          "execution_count": 23
        }
      ]
    },
    {
      "cell_type": "markdown",
      "source": [
        "# Gram Schmidt Process for 4 Vectors"
      ],
      "metadata": {
        "id": "-uisKAdCpAND"
      }
    },
    {
      "cell_type": "code",
      "source": [
        "#Creating the Vectors\n",
        "v1 = np.array([0,3,-3,0])\n",
        "v2 = np.array([2,6,-2,2])\n",
        "v3 = np.array([-2,1,-3,0])\n",
        "v4 = np.array([2,-4,-2,-4])"
      ],
      "metadata": {
        "id": "LhQn3QTBpEzO"
      },
      "execution_count": null,
      "outputs": []
    },
    {
      "cell_type": "markdown",
      "source": [
        "### Processing The First Vector"
      ],
      "metadata": {
        "id": "5aXI3dE0p8Q9"
      }
    },
    {
      "cell_type": "code",
      "source": [
        "#Finding u1\n",
        "u1 = v1 / np.linalg.norm(v1)\n",
        "u1"
      ],
      "metadata": {
        "colab": {
          "base_uri": "https://localhost:8080/"
        },
        "id": "sVo10j2ZpZf3",
        "outputId": "2baa0a73-e9bf-41aa-ad24-d6846cae838d"
      },
      "execution_count": null,
      "outputs": [
        {
          "output_type": "execute_result",
          "data": {
            "text/plain": [
              "array([ 0.        ,  0.70710678, -0.70710678,  0.        ])"
            ]
          },
          "metadata": {},
          "execution_count": 33
        }
      ]
    },
    {
      "cell_type": "code",
      "source": [
        "#Checking Size\n",
        "print(np.sqrt(u1.dot(u1)))"
      ],
      "metadata": {
        "colab": {
          "base_uri": "https://localhost:8080/"
        },
        "id": "RdRK9yZAqlHO",
        "outputId": "e40556e9-449f-4c73-ed71-94f8ccee414b"
      },
      "execution_count": null,
      "outputs": [
        {
          "output_type": "stream",
          "name": "stdout",
          "text": [
            "1.0\n"
          ]
        }
      ]
    },
    {
      "cell_type": "markdown",
      "source": [
        "### Processing The Second Vector"
      ],
      "metadata": {
        "id": "g4JOBbOAqDoL"
      }
    },
    {
      "cell_type": "code",
      "source": [
        "#Finding t2\n",
        "t2 = v2 - v2.dot(u1) *u1\n",
        "print(t2)\n",
        "\n",
        "#Normalizing\n",
        "\n",
        "u2 = t2 / np.linalg.norm(t2)\n",
        "print(u2)"
      ],
      "metadata": {
        "colab": {
          "base_uri": "https://localhost:8080/"
        },
        "id": "irKmx7A5pzJW",
        "outputId": "cff02443-ad99-4b71-d243-28102ac9d19f"
      },
      "execution_count": null,
      "outputs": [
        {
          "output_type": "stream",
          "name": "stdout",
          "text": [
            "[2. 2. 2. 2.]\n",
            "[0.5 0.5 0.5 0.5]\n"
          ]
        }
      ]
    },
    {
      "cell_type": "code",
      "source": [
        "#Checking\n",
        "print(\"Size= \",np.sqrt(u2.dot(u2)))\n",
        "\n",
        "print(\"Dot product= \", u1.dot(u2))"
      ],
      "metadata": {
        "colab": {
          "base_uri": "https://localhost:8080/"
        },
        "id": "j9mhB80urSuC",
        "outputId": "fc02135a-469b-4fe2-f4fb-94bcda6e248e"
      },
      "execution_count": null,
      "outputs": [
        {
          "output_type": "stream",
          "name": "stdout",
          "text": [
            "Size=  1.0\n",
            "Dot product=  -3.3306690738754696e-16\n"
          ]
        }
      ]
    },
    {
      "cell_type": "markdown",
      "source": [
        "### Processing Thrid Vector"
      ],
      "metadata": {
        "id": "opF8aJCgtlfz"
      }
    },
    {
      "cell_type": "code",
      "source": [
        "#Finding t3\n",
        "t3 = v3 - v3.dot(u1) *u1 - v3.dot(u2) *u2\n",
        "print(t3)\n",
        "\n",
        "#Normalizing\n",
        "\n",
        "u3 = t3 / np.linalg.norm(t3)\n",
        "print(u3)"
      ],
      "metadata": {
        "colab": {
          "base_uri": "https://localhost:8080/"
        },
        "id": "C0l327zzto-7",
        "outputId": "946507ab-4e9f-4f86-a784-fefdec81c417"
      },
      "execution_count": null,
      "outputs": [
        {
          "output_type": "stream",
          "name": "stdout",
          "text": [
            "[-1.00000000e+00 -4.44089210e-16  1.33226763e-15  1.00000000e+00]\n",
            "[-7.07106781e-01 -3.14018492e-16  9.42055475e-16  7.07106781e-01]\n"
          ]
        }
      ]
    },
    {
      "cell_type": "code",
      "source": [
        "#Checking\n",
        "print(\"Size= \",np.sqrt(u3.dot(u3)))\n",
        "\n",
        "print(\"Dot product= \", u3.dot(u1))\n",
        "print(\"Dot product= \", u3.dot(u2))"
      ],
      "metadata": {
        "colab": {
          "base_uri": "https://localhost:8080/"
        },
        "id": "BSL5JWPqt-x5",
        "outputId": "2eda2ae5-717d-4c5a-9e47-20549b974ee0"
      },
      "execution_count": null,
      "outputs": [
        {
          "output_type": "stream",
          "name": "stdout",
          "text": [
            "Size=  0.9999999999999999\n",
            "Dot product=  -8.881784197001252e-16\n",
            "Dot product=  6.106226635438361e-16\n"
          ]
        }
      ]
    },
    {
      "cell_type": "markdown",
      "source": [
        "### Processing Fourth Vector"
      ],
      "metadata": {
        "id": "bgko5oPHuSFL"
      }
    },
    {
      "cell_type": "code",
      "source": [
        "#Finding t4\n",
        "t4 = v4 - v4.dot(u1) *u1 - v4.dot(u2) *u2 - v4.dot(u3) *u3\n",
        "print(t4)\n",
        "\n",
        "#Normalizing\n",
        "\n",
        "u4 = t4 / np.linalg.norm(t4)\n",
        "print(u4)"
      ],
      "metadata": {
        "colab": {
          "base_uri": "https://localhost:8080/"
        },
        "id": "e6X56ZoHuWSF",
        "outputId": "5aa9dda6-1d77-4e96-cc65-1b77c624d936"
      },
      "execution_count": null,
      "outputs": [
        {
          "output_type": "stream",
          "name": "stdout",
          "text": [
            "[ 1. -1. -1.  1.]\n",
            "[ 0.5 -0.5 -0.5  0.5]\n"
          ]
        }
      ]
    },
    {
      "cell_type": "code",
      "source": [
        "#Checking\n",
        "print(\"Size = \",np.sqrt(u4.dot(u4)))\n",
        "\n",
        "print(\"Dot product = \", u4.dot(u1))\n",
        "print(\"Dot product = \", u4.dot(u2))\n",
        "print(\"Dot product = \", u4.dot(u3))"
      ],
      "metadata": {
        "colab": {
          "base_uri": "https://localhost:8080/"
        },
        "id": "GA7w2TuUujig",
        "outputId": "def34910-df07-41aa-867f-9aebafc2c472"
      },
      "execution_count": null,
      "outputs": [
        {
          "output_type": "stream",
          "name": "stdout",
          "text": [
            "Size =  0.9999999999999999\n",
            "Dot product =  -2.4424906541753444e-15\n",
            "Dot product =  1.1657341758564144e-15\n",
            "Dot product =  5.551115123125783e-17\n"
          ]
        }
      ]
    },
    {
      "cell_type": "markdown",
      "source": [
        "## All Nice Unit Vectors"
      ],
      "metadata": {
        "id": "qvbluB6su48g"
      }
    },
    {
      "cell_type": "code",
      "source": [
        "print(\"u1 = \", u1)\n",
        "print(\"u2 = \", u2)\n",
        "print(\"u3 = \", u3)\n",
        "print(\"u4 = \", u4)"
      ],
      "metadata": {
        "colab": {
          "base_uri": "https://localhost:8080/"
        },
        "id": "WViw1nAuu8EF",
        "outputId": "9458d847-6841-4390-8e17-c10395137a73"
      },
      "execution_count": null,
      "outputs": [
        {
          "output_type": "stream",
          "name": "stdout",
          "text": [
            "u1 =  [ 0.          0.70710678 -0.70710678  0.        ]\n",
            "u2 =  [0.5 0.5 0.5 0.5]\n",
            "u3 =  [-7.07106781e-01 -3.14018492e-16  9.42055475e-16  7.07106781e-01]\n",
            "u4 =  [ 0.5 -0.5 -0.5  0.5]\n"
          ]
        }
      ]
    }
  ]
}